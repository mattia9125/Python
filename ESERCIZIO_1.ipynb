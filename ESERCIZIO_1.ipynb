{
 "cells": [
  {
   "cell_type": "code",
   "execution_count": 1,
   "id": "e5145f2c-1f2a-4e48-943f-c0bfe4dd3bc4",
   "metadata": {},
   "outputs": [
    {
     "data": {
      "text/plain": [
       "'Oggi è mercoledi'"
      ]
     },
     "execution_count": 1,
     "metadata": {},
     "output_type": "execute_result"
    }
   ],
   "source": [
    "nome = \"oggi è MERCOLEDI\"\n",
    "nome.capitalize()"
   ]
  },
  {
   "cell_type": "code",
   "execution_count": 9,
   "id": "3b3e23b9-885f-453e-b32c-77d460da9fd1",
   "metadata": {},
   "outputs": [
    {
     "data": {
      "text/plain": [
       "2"
      ]
     },
     "execution_count": 9,
     "metadata": {},
     "output_type": "execute_result"
    }
   ],
   "source": [
    "nome.count(\"g\")"
   ]
  },
  {
   "cell_type": "code",
   "execution_count": 3,
   "id": "83da5100-9d3a-4ba1-8dcd-4d2924932132",
   "metadata": {},
   "outputs": [
    {
     "data": {
      "text/plain": [
       "'oggi è mercoledi'"
      ]
     },
     "execution_count": 3,
     "metadata": {},
     "output_type": "execute_result"
    }
   ],
   "source": [
    "nome.lower()"
   ]
  },
  {
   "cell_type": "code",
   "execution_count": 4,
   "id": "04f436d8-d4b3-4428-8bc5-a73f29cc0a33",
   "metadata": {},
   "outputs": [],
   "source": [
    "nome_nuovo = nome.lower()"
   ]
  },
  {
   "cell_type": "code",
   "execution_count": 5,
   "id": "2e428bbf-65f7-4670-824b-deb275b39988",
   "metadata": {},
   "outputs": [
    {
     "data": {
      "text/plain": [
       "'oggi è mercoledi'"
      ]
     },
     "execution_count": 5,
     "metadata": {},
     "output_type": "execute_result"
    }
   ],
   "source": [
    "nome_nuovo"
   ]
  },
  {
   "cell_type": "code",
   "execution_count": 6,
   "id": "f3b69ba0-60f6-46f2-87a9-7319020b9702",
   "metadata": {},
   "outputs": [
    {
     "data": {
      "text/plain": [
       "['oggi', 'è', 'MERCOLEDI']"
      ]
     },
     "execution_count": 6,
     "metadata": {},
     "output_type": "execute_result"
    }
   ],
   "source": [
    "nome.split(\" \")"
   ]
  },
  {
   "cell_type": "code",
   "execution_count": 7,
   "id": "68f8388d-8417-4c71-847b-3bebcf2f0ac8",
   "metadata": {},
   "outputs": [
    {
     "data": {
      "text/plain": [
       "'------------oggi è MERCOLEDI------------'"
      ]
     },
     "execution_count": 7,
     "metadata": {},
     "output_type": "execute_result"
    }
   ],
   "source": [
    "nome.center(40,\"-\")"
   ]
  },
  {
   "cell_type": "code",
   "execution_count": 8,
   "id": "28ca0d1e-dc5f-484a-a782-b309e39cf26e",
   "metadata": {},
   "outputs": [
    {
     "data": {
      "text/plain": [
       "10"
      ]
     },
     "execution_count": 8,
     "metadata": {},
     "output_type": "execute_result"
    }
   ],
   "source": [
    "nome.find(\"COL\")"
   ]
  },
  {
   "cell_type": "code",
   "execution_count": 10,
   "id": "42bcdb38-af9b-47e0-a2ff-a89f73b008ab",
   "metadata": {},
   "outputs": [
    {
     "data": {
      "text/plain": [
       "'E'"
      ]
     },
     "execution_count": 10,
     "metadata": {},
     "output_type": "execute_result"
    }
   ],
   "source": [
    "nome[-3]"
   ]
  },
  {
   "cell_type": "code",
   "execution_count": 11,
   "id": "7aa26465-3ac4-4c96-a3a7-81d1d7ada65f",
   "metadata": {},
   "outputs": [
    {
     "data": {
      "text/plain": [
       "False"
      ]
     },
     "execution_count": 11,
     "metadata": {},
     "output_type": "execute_result"
    }
   ],
   "source": [
    "nome.isupper()"
   ]
  },
  {
   "cell_type": "code",
   "execution_count": 12,
   "id": "ef4724c0-437a-4962-9d2c-5e9db9c8bf43",
   "metadata": {},
   "outputs": [],
   "source": [
    "nome_maiuscolo = nome.upper()"
   ]
  },
  {
   "cell_type": "code",
   "execution_count": 13,
   "id": "946b48ff-3d55-4a7e-a242-01d203bdfbee",
   "metadata": {},
   "outputs": [
    {
     "data": {
      "text/plain": [
       "True"
      ]
     },
     "execution_count": 13,
     "metadata": {},
     "output_type": "execute_result"
    }
   ],
   "source": [
    "nome_maiuscolo.isupper()"
   ]
  },
  {
   "cell_type": "code",
   "execution_count": 14,
   "id": "80437245-96d3-40b9-a08f-e0e3c0b19ab4",
   "metadata": {},
   "outputs": [
    {
     "data": {
      "text/plain": [
       "'OGGI È mercoledi'"
      ]
     },
     "execution_count": 14,
     "metadata": {},
     "output_type": "execute_result"
    }
   ],
   "source": [
    "nome.swapcase()"
   ]
  },
  {
   "cell_type": "code",
   "execution_count": 15,
   "id": "35bc1550-8612-4b03-946b-c7a969062603",
   "metadata": {},
   "outputs": [
    {
     "data": {
      "text/plain": [
       "'Oggi È Mercoledi'"
      ]
     },
     "execution_count": 15,
     "metadata": {},
     "output_type": "execute_result"
    }
   ],
   "source": [
    "nome.title()"
   ]
  },
  {
   "cell_type": "code",
   "execution_count": 16,
   "id": "02064c77-87f0-4a3c-a550-18aa0536b58b",
   "metadata": {},
   "outputs": [
    {
     "data": {
      "text/plain": [
       "16"
      ]
     },
     "execution_count": 16,
     "metadata": {},
     "output_type": "execute_result"
    }
   ],
   "source": [
    "len(nome)"
   ]
  },
  {
   "cell_type": "code",
   "execution_count": 18,
   "id": "65378a38-feb4-4c22-999d-50c95d9cab32",
   "metadata": {},
   "outputs": [
    {
     "name": "stdin",
     "output_type": "stream",
     "text": [
      "inserisci un numero: 2\n"
     ]
    }
   ],
   "source": [
    "x = int(input(\"inserisci un numero:\"))\n",
    "y = x ** 2"
   ]
  },
  {
   "cell_type": "code",
   "execution_count": 19,
   "id": "72d8a88c-6eb9-4ad8-b161-aa05bf512b87",
   "metadata": {},
   "outputs": [
    {
     "data": {
      "text/plain": [
       "4"
      ]
     },
     "execution_count": 19,
     "metadata": {},
     "output_type": "execute_result"
    }
   ],
   "source": [
    "y"
   ]
  },
  {
   "cell_type": "code",
   "execution_count": 20,
   "id": "b27d9a34-9091-45e5-8734-7b983bc8b3d1",
   "metadata": {},
   "outputs": [
    {
     "name": "stdin",
     "output_type": "stream",
     "text": [
      "inserisci un valore blooleano (VERO / FALSO): VERO\n"
     ]
    }
   ],
   "source": [
    "x = bool(input(\"inserisci un valore blooleano (VERO / FALSO):\"))"
   ]
  },
  {
   "cell_type": "code",
   "execution_count": 22,
   "id": "7d7d7274-f2ad-4832-a9ab-ffb1c169cc7b",
   "metadata": {},
   "outputs": [
    {
     "data": {
      "text/plain": [
       "True"
      ]
     },
     "execution_count": 22,
     "metadata": {},
     "output_type": "execute_result"
    }
   ],
   "source": [
    "x"
   ]
  },
  {
   "cell_type": "code",
   "execution_count": 23,
   "id": "89e4daf4-720b-4284-8687-023dc91389d9",
   "metadata": {},
   "outputs": [
    {
     "data": {
      "text/plain": [
       "'3'"
      ]
     },
     "execution_count": 23,
     "metadata": {},
     "output_type": "execute_result"
    }
   ],
   "source": [
    "stringa = \"0123456789\"\n",
    "stringa[3]"
   ]
  },
  {
   "cell_type": "code",
   "execution_count": 24,
   "id": "c5f16fd5-63cb-46a8-9276-9661d2ebf288",
   "metadata": {},
   "outputs": [
    {
     "data": {
      "text/plain": [
       "'7'"
      ]
     },
     "execution_count": 24,
     "metadata": {},
     "output_type": "execute_result"
    }
   ],
   "source": [
    "stringa[7]"
   ]
  },
  {
   "cell_type": "code",
   "execution_count": 25,
   "id": "39edfcb9-d555-48e3-b0fb-6d748fb648c6",
   "metadata": {},
   "outputs": [
    {
     "data": {
      "text/plain": [
       "'8'"
      ]
     },
     "execution_count": 25,
     "metadata": {},
     "output_type": "execute_result"
    }
   ],
   "source": [
    "stringa[-2]"
   ]
  },
  {
   "cell_type": "code",
   "execution_count": 27,
   "id": "93c553ab-d270-4d59-9bd4-31fedb3e8134",
   "metadata": {},
   "outputs": [
    {
     "data": {
      "text/plain": [
       "'23456'"
      ]
     },
     "execution_count": 27,
     "metadata": {},
     "output_type": "execute_result"
    }
   ],
   "source": [
    "stringa[2:7]"
   ]
  },
  {
   "cell_type": "code",
   "execution_count": 28,
   "id": "c38f9a4b-041e-48b2-a3e8-044e81039d9c",
   "metadata": {},
   "outputs": [
    {
     "data": {
      "text/plain": [
       "'13579'"
      ]
     },
     "execution_count": 28,
     "metadata": {},
     "output_type": "execute_result"
    }
   ],
   "source": [
    "stringa[1::2]"
   ]
  },
  {
   "cell_type": "code",
   "execution_count": 29,
   "id": "5e0f115e-2f06-4a8a-be9f-6a66eb04c5fd",
   "metadata": {},
   "outputs": [],
   "source": [
    "stringa = \"parola\""
   ]
  },
  {
   "cell_type": "code",
   "execution_count": 30,
   "id": "586917f4-e8be-4041-bd0f-b4ccceec677a",
   "metadata": {},
   "outputs": [
    {
     "data": {
      "text/plain": [
       "'parola'"
      ]
     },
     "execution_count": 30,
     "metadata": {},
     "output_type": "execute_result"
    }
   ],
   "source": [
    "stringa"
   ]
  },
  {
   "cell_type": "code",
   "execution_count": 31,
   "id": "15e85cee-be74-4e69-9a63-7be8e0ee1f1c",
   "metadata": {},
   "outputs": [],
   "source": [
    "stringa = 56"
   ]
  },
  {
   "cell_type": "code",
   "execution_count": 32,
   "id": "246adf83-9f25-431e-8c7e-cd34c871d3fe",
   "metadata": {},
   "outputs": [
    {
     "data": {
      "text/plain": [
       "56"
      ]
     },
     "execution_count": 32,
     "metadata": {},
     "output_type": "execute_result"
    }
   ],
   "source": [
    "stringa"
   ]
  },
  {
   "cell_type": "code",
   "execution_count": null,
   "id": "92b04b26-1b31-4ddd-ac23-eaae26bda22e",
   "metadata": {},
   "outputs": [],
   "source": []
  },
  {
   "cell_type": "code",
   "execution_count": 34,
   "id": "a10297a9-4a74-4b8c-aa5f-69ccf851c402",
   "metadata": {},
   "outputs": [
    {
     "name": "stdin",
     "output_type": "stream",
     "text": [
      "Inserisci un carattere: a\n"
     ]
    },
    {
     "name": "stdout",
     "output_type": "stream",
     "text": [
      "il carattere è una vocale\n"
     ]
    }
   ],
   "source": [
    "carattere = input (\"Inserisci un carattere:\").lower()\n",
    "vocali = \"aeiou\"\n",
    "if carattere in vocali:\n",
    "    print(\"il carattere è una vocale\")\n",
    "elif:\n",
    "else:\n",
    "    print(\"Il carattere non è una vocale\")"
   ]
  },
  {
   "cell_type": "code",
   "execution_count": null,
   "id": "b421a590-5e0a-4de7-8089-72a94e5d0cd8",
   "metadata": {},
   "outputs": [],
   "source": []
  },
  {
   "cell_type": "code",
   "execution_count": 41,
   "id": "95321631-2459-4875-9aa6-66bb2e712576",
   "metadata": {},
   "outputs": [
    {
     "name": "stdin",
     "output_type": "stream",
     "text": [
      "Inserisci un numero: 10\n"
     ]
    },
    {
     "name": "stdout",
     "output_type": "stream",
     "text": [
      "il numero è maggiore o uguale di 10 \n"
     ]
    }
   ],
   "source": [
    "numero = int(input (\"Inserisci un numero:\"))\n",
    "if numero >= 20:\n",
    "    print(\"il numero è maggiore o uguale di 20 \")\n",
    "elif numero >=10:\n",
    "    print(\"il numero è maggiore o uguale di 10 \")\n",
    "else:\n",
    "    print(\"Il numero è minore di 10 \")\n"
   ]
  },
  {
   "cell_type": "code",
   "execution_count": 43,
   "id": "70a7dea0-0c32-40c6-9f72-be60a79f5862",
   "metadata": {},
   "outputs": [
    {
     "name": "stdin",
     "output_type": "stream",
     "text": [
      "Inserire primo numero 5\n",
      "Inserire secondo numero 4\n"
     ]
    },
    {
     "name": "stdout",
     "output_type": "stream",
     "text": [
      "5 è maggiore\n"
     ]
    }
   ],
   "source": [
    "numero_1 = int(input(\"Inserire primo numero\"))\n",
    "numero_2 = int(input(\"Inserire secondo numero\"))\n",
    "\n",
    "if int(numero_1) > int(numero_2):\n",
    "    print(f\"{numero_1} è maggiore\")"
   ]
  },
  {
   "cell_type": "code",
   "execution_count": null,
   "id": "8a31c1b5-1560-408d-a931-03dc09471cb2",
   "metadata": {},
   "outputs": [],
   "source": []
  }
 ],
 "metadata": {
  "kernelspec": {
   "display_name": "Python 3 (ipykernel)",
   "language": "python",
   "name": "python3"
  },
  "language_info": {
   "codemirror_mode": {
    "name": "ipython",
    "version": 3
   },
   "file_extension": ".py",
   "mimetype": "text/x-python",
   "name": "python",
   "nbconvert_exporter": "python",
   "pygments_lexer": "ipython3",
   "version": "3.11.7"
  }
 },
 "nbformat": 4,
 "nbformat_minor": 5
}
