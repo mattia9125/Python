{
 "cells": [
  {
   "cell_type": "markdown",
   "id": "08f9ff6a-d709-4c2d-a6eb-a34d74fb1110",
   "metadata": {},
   "source": [
    "# RIFORNIMENTO BENZINA\n",
    "1. ESCI DI CASA E PRENDI AUTO\n",
    "2. ENTRA IN AUTO\n",
    "3. METTI IN MOTO L'AUTO\n",
    "4. VAI AL DISTRIBUTORE PIU' VICINO\n",
    "5. SCENDI DALL'AUTO\n",
    "6. APRI SERVATOIO\n",
    "7. SELEZIONE IL N° DELLA POMPA DI CARBURANTE\n",
    "8. SELEZIONA IL IL TIPO DI CARBURANTE\n",
    "9. SELEZIONA IL METODO DI PAGAMENTO\n",
    "10. VAI ALLA POMPA SELEZIONATA\n",
    "11. FAI RIFORNIMENTO\n",
    "12. RIPONI LA POMPA AL SUO POSTO\n",
    "13. CHIUDI SERBATOIO\n",
    "14. ENTRA IN MACCHINA\n",
    "15. RIPARTI"
   ]
  },
  {
   "cell_type": "markdown",
   "id": "36cfaa5b-6a21-4b1b-9e59-b6b2b0e4e4dd",
   "metadata": {},
   "source": [
    "# FARE LA SPESA\n",
    "1. FAI LA LISTA\n",
    "2. PRENDI PORTAFOGLIO\n",
    "3. ESCI DI CASA\n",
    "4. SALI IN MACCHINA\n",
    "5. VAI AL SUPERMERCATO\n",
    "6. SCENID DALL'AUTO\n",
    "7. PRENDI CARRELLO INSERISCI MONETA\n",
    "8. ENTRA NEL SUPERMERCATO\n",
    "9. PRENDI TUTTO QUELLO CHE STA SULLA LISTA\n",
    "10. SE NON HAI PRESO TUTTO, RITORNA LA PUNTO 9\n",
    "11. SE HAI PRESO TUTTO VAI IN CASSA\n",
    "12. PAGA\n",
    "13. LASCIA CARRELLO\n",
    "14. RECUPERA MONETA\n",
    "15. METTI SPESA IN MACCHINA\n",
    "16. METTI IN MOTO\n",
    "17. TORNA A CASA"
   ]
  },
  {
   "cell_type": "code",
   "execution_count": 4,
   "id": "51c75099-8be4-4ca3-8b1e-1a0581974dc7",
   "metadata": {},
   "outputs": [
    {
     "name": "stdout",
     "output_type": "stream",
     "text": [
      "25\n"
     ]
    }
   ],
   "source": [
    "# ABBIAMO 25 STUDENTI, MEMORIZZARE QUESTO DATO IN UNA VARIABILE\n",
    "STUDENTI = 25\n",
    "print(STUDENTI)"
   ]
  },
  {
   "cell_type": "code",
   "execution_count": 2,
   "id": "306379c9-208b-40a0-92af-0afea3ed7acc",
   "metadata": {},
   "outputs": [
    {
     "data": {
      "text/plain": [
       "25"
      ]
     },
     "execution_count": 2,
     "metadata": {},
     "output_type": "execute_result"
    }
   ],
   "source": [
    "STUDENTI"
   ]
  },
  {
   "cell_type": "code",
   "execution_count": 7,
   "id": "73b7587e-a83d-40cc-880a-f164beeedbb5",
   "metadata": {},
   "outputs": [],
   "source": [
    "# Arrivano 3 nuovi studenti, memorizzare questo data in un altra variabile\n",
    "Nuovi_studenti = 3"
   ]
  },
  {
   "cell_type": "code",
   "execution_count": 8,
   "id": "a1e7c498-033f-44d2-97ad-bc073a003ddb",
   "metadata": {},
   "outputs": [
    {
     "data": {
      "text/plain": [
       "3"
      ]
     },
     "execution_count": 8,
     "metadata": {},
     "output_type": "execute_result"
    }
   ],
   "source": [
    "Nuovi_studenti"
   ]
  },
  {
   "cell_type": "code",
   "execution_count": 13,
   "id": "b129f280-aca0-49c1-9cb1-2a8f5843a704",
   "metadata": {},
   "outputs": [
    {
     "name": "stdout",
     "output_type": "stream",
     "text": [
      "28\n"
     ]
    }
   ],
   "source": [
    "# Numero totale degli studenti\n",
    "Numero_Totale_Studenti = STUDENTI+Nuovi_studenti\n",
    "print(Numero_Totale_Studenti)"
   ]
  },
  {
   "cell_type": "code",
   "execution_count": 14,
   "id": "e6484189-d6b3-4007-af32-3d551d99ce47",
   "metadata": {},
   "outputs": [],
   "source": [
    "# Creare una variabile che contiene la stringa EPICODE, quindi stampare a video\n",
    "Nome = 'EPICODE'"
   ]
  },
  {
   "cell_type": "code",
   "execution_count": 15,
   "id": "5ab3d014-5890-46f7-a488-7163a0398161",
   "metadata": {},
   "outputs": [
    {
     "name": "stdout",
     "output_type": "stream",
     "text": [
      "EPICODE\n"
     ]
    }
   ],
   "source": [
    "print(Nome)"
   ]
  },
  {
   "cell_type": "code",
   "execution_count": 18,
   "id": "c2448aee-3737-49dc-bcb5-04afe800b006",
   "metadata": {},
   "outputs": [
    {
     "name": "stdout",
     "output_type": "stream",
     "text": [
      "36\n"
     ]
    }
   ],
   "source": [
    "# Incrementarla di 2 e poi moltiplicarla per 3 Usare due metodi diversi\n",
    "x=10\n",
    "y = ((x + 2)*3)\n",
    "print(y)"
   ]
  },
  {
   "cell_type": "code",
   "execution_count": 19,
   "id": "7979138a-ed54-4d2b-99d9-e826a42f76df",
   "metadata": {},
   "outputs": [
    {
     "name": "stdout",
     "output_type": "stream",
     "text": [
      "36\n"
     ]
    }
   ],
   "source": [
    "print((x + 2)*3)"
   ]
  },
  {
   "cell_type": "code",
   "execution_count": 23,
   "id": "0210bee5-8b45-4f06-82f1-3fce5f36e925",
   "metadata": {},
   "outputs": [],
   "source": [
    "# Verificare, per ognuna delle seguenti stringhe, se il numero di caratteri è compreso tra 5 e 8\n",
    "str1 = \"Windows\""
   ]
  },
  {
   "cell_type": "code",
   "execution_count": 26,
   "id": "5b04421d-bdbf-4ac3-b859-fd402d5583d3",
   "metadata": {},
   "outputs": [
    {
     "name": "stdout",
     "output_type": "stream",
     "text": [
      "Compreso\n"
     ]
    }
   ],
   "source": [
    "if len(str1) >= 5 and len(str1) <= 8:\n",
    "   print(\"Compreso\")\n",
    "else: \n",
    "   print(\"Non Compreso\") "
   ]
  },
  {
   "cell_type": "code",
   "execution_count": 27,
   "id": "291b1698-e370-40a7-9419-cfc77caaceb8",
   "metadata": {},
   "outputs": [],
   "source": [
    "str2 = \"Execel\" "
   ]
  },
  {
   "cell_type": "code",
   "execution_count": 28,
   "id": "a20685fc-5f67-48dc-96b9-170b428a5ed7",
   "metadata": {},
   "outputs": [
    {
     "name": "stdout",
     "output_type": "stream",
     "text": [
      "Compreso\n"
     ]
    }
   ],
   "source": [
    "if len(str2) >= 5 and len(str2) <= 8:\n",
    "   print(\"Compreso\")\n",
    "else: \n",
    "   print(\"Non Compreso\") "
   ]
  },
  {
   "cell_type": "code",
   "execution_count": 29,
   "id": "95e5da3b-dd40-471c-87d9-d5bbe4668706",
   "metadata": {},
   "outputs": [],
   "source": [
    "str3 = \"PowerPoint\""
   ]
  },
  {
   "cell_type": "code",
   "execution_count": 31,
   "id": "593c00e6-5a2c-4ac0-8d3d-9f8dc1e9ccaa",
   "metadata": {},
   "outputs": [
    {
     "name": "stdout",
     "output_type": "stream",
     "text": [
      "Non Compreso\n"
     ]
    }
   ],
   "source": [
    "if len(str3) >= 5 and len(str3) <= 8:\n",
    "   print(\"Compreso\")\n",
    "else: \n",
    "   print(\"Non Compreso\") "
   ]
  },
  {
   "cell_type": "code",
   "execution_count": 32,
   "id": "3ea8ac22-280b-47e9-aa39-7db5adb34d86",
   "metadata": {},
   "outputs": [],
   "source": [
    "str4 = \"Word\""
   ]
  },
  {
   "cell_type": "code",
   "execution_count": 33,
   "id": "6fc299b0-00dc-44a5-8e25-49e39db3c1c2",
   "metadata": {},
   "outputs": [
    {
     "name": "stdout",
     "output_type": "stream",
     "text": [
      "Non Compreso\n"
     ]
    }
   ],
   "source": [
    "if len(str4) >= 5 and len(str4) <= 8:\n",
    "   print(\"Compreso\")\n",
    "else: \n",
    "   print(\"Non Compreso\") "
   ]
  },
  {
   "cell_type": "code",
   "execution_count": 38,
   "id": "1c724287-8ec9-4470-a276-8e6debe0d60b",
   "metadata": {},
   "outputs": [
    {
     "name": "stdout",
     "output_type": "stream",
     "text": [
      "i secondi in un anno bisestile sono ; 31536000\n"
     ]
    }
   ],
   "source": [
    "# Calcolare e stampare a video quanti secondi ci sono in un anno non bisestile.\n",
    "Secondi = 60*60*24*365\n",
    "print(\"i secondi in un anno bisestile sono ;\", Secondi)"
   ]
  },
  {
   "cell_type": "code",
   "execution_count": 39,
   "id": "8451559c-d4aa-4dfb-9efe-44f12ef2804b",
   "metadata": {},
   "outputs": [],
   "source": [
    "my_string = \" I am studying Python\""
   ]
  },
  {
   "cell_type": "code",
   "execution_count": 40,
   "id": "99b2e9d1-049c-44e6-adb8-7d236f20cf9e",
   "metadata": {},
   "outputs": [
    {
     "data": {
      "text/plain": [
       "' I AM STUDYING PYTHON'"
      ]
     },
     "execution_count": 40,
     "metadata": {},
     "output_type": "execute_result"
    }
   ],
   "source": [
    " # Trasformarla in modo che tutti i caratteri siano maiuscoli \n",
    "str.upper(my_string)"
   ]
  },
  {
   "cell_type": "code",
   "execution_count": 41,
   "id": "23b14a1c-89a0-45e2-88f9-15beb93cbb44",
   "metadata": {},
   "outputs": [
    {
     "data": {
      "text/plain": [
       "' i am studying python'"
      ]
     },
     "execution_count": 41,
     "metadata": {},
     "output_type": "execute_result"
    }
   ],
   "source": [
    " # Trasformarla in modo che tutti i caratteri siano minuscoli\n",
    "str.lower(my_string)"
   ]
  },
  {
   "cell_type": "code",
   "execution_count": 49,
   "id": "f19aab2b-64c3-4b5e-be11-7cdeba5a594c",
   "metadata": {},
   "outputs": [
    {
     "data": {
      "text/plain": [
       "' I am studying a lot '"
      ]
     },
     "execution_count": 49,
     "metadata": {},
     "output_type": "execute_result"
    }
   ],
   "source": [
    "# Trasformarla in modo che tutti i caratteri siano minuscoli\n",
    "my_string.replace(\"Python\", \"a lot\")"
   ]
  },
  {
   "cell_type": "code",
   "execution_count": 50,
   "id": "483ce3c9-293d-400c-81fc-64defeb3faa8",
   "metadata": {},
   "outputs": [
    {
     "data": {
      "text/plain": [
       "'I am studying Python'"
      ]
     },
     "execution_count": 50,
     "metadata": {},
     "output_type": "execute_result"
    }
   ],
   "source": [
    "# Non cambia nulla perchè all'inizio e alla fine non ci stanno spazi\n",
    "my_string.strip()"
   ]
  },
  {
   "cell_type": "code",
   "execution_count": 51,
   "id": "579b3896-f5f4-44e3-8187-17bb9abdf247",
   "metadata": {},
   "outputs": [],
   "source": [
    "testo = \"variabile stringa\""
   ]
  },
  {
   "cell_type": "code",
   "execution_count": 52,
   "id": "06c859f9-9200-4f58-80c4-6d1f84c9d74f",
   "metadata": {},
   "outputs": [
    {
     "data": {
      "text/plain": [
       "'variabile stringa'"
      ]
     },
     "execution_count": 52,
     "metadata": {},
     "output_type": "execute_result"
    }
   ],
   "source": [
    "testo"
   ]
  },
  {
   "cell_type": "code",
   "execution_count": 53,
   "id": "9c16bb82-50b2-414f-8ef1-7a7ef158d84a",
   "metadata": {},
   "outputs": [
    {
     "data": {
      "text/plain": [
       "'variabile rimpiazzata'"
      ]
     },
     "execution_count": 53,
     "metadata": {},
     "output_type": "execute_result"
    }
   ],
   "source": [
    "testo.replace(\"stringa\", \"rimpiazzata\")"
   ]
  }
 ],
 "metadata": {
  "kernelspec": {
   "display_name": "Python 3 (ipykernel)",
   "language": "python",
   "name": "python3"
  },
  "language_info": {
   "codemirror_mode": {
    "name": "ipython",
    "version": 3
   },
   "file_extension": ".py",
   "mimetype": "text/x-python",
   "name": "python",
   "nbconvert_exporter": "python",
   "pygments_lexer": "ipython3",
   "version": "3.11.7"
  }
 },
 "nbformat": 4,
 "nbformat_minor": 5
}
