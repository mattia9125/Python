{
 "cells": [
  {
   "cell_type": "code",
   "execution_count": 1,
   "id": "e7bcf4b5-c3d5-4b9b-addd-f2b7505858c2",
   "metadata": {},
   "outputs": [],
   "source": [
    "# Stampare ogni carattere della stringa, uno su ogni riga, utilizzando un costrutto while."
   ]
  },
  {
   "cell_type": "code",
   "execution_count": 5,
   "id": "b610a466-78ac-4039-ad13-ee291d6e6f92",
   "metadata": {},
   "outputs": [
    {
     "name": "stdout",
     "output_type": "stream",
     "text": [
      "E\n",
      "P\n",
      "I\n",
      "C\n",
      "O\n",
      "D\n",
      "E\n"
     ]
    }
   ],
   "source": [
    "nome_scuola = \"Epicode\"\n",
    "contatore = 0\n",
    "while contatore <= len(nome_scuola) -1:\n",
    "    print(nome_scuola[contatore].upper())\n",
    "    contatore += 1"
   ]
  },
  {
   "cell_type": "code",
   "execution_count": 6,
   "id": "fdeb0254-dd1b-4e2d-8152-5f833e30e867",
   "metadata": {},
   "outputs": [
    {
     "name": "stdout",
     "output_type": "stream",
     "text": [
      "E\n",
      "p\n",
      "i\n",
      "c\n",
      "o\n",
      "d\n",
      "e\n"
     ]
    }
   ],
   "source": [
    "nome_scuola = \"Epicode\"\n",
    "for char in nome_scuola:\n",
    "    print(char)"
   ]
  },
  {
   "cell_type": "code",
   "execution_count": 6,
   "id": "6c041e03-c423-493c-8995-f6c039d3ec83",
   "metadata": {},
   "outputs": [
    {
     "name": "stdout",
     "output_type": "stream",
     "text": [
      "[0]\n",
      "[0, 1]\n",
      "[0, 1, 2]\n",
      "[0, 1, 2, 3]\n",
      "[0, 1, 2, 3, 4]\n",
      "[0, 1, 2, 3, 4, 5]\n",
      "[0, 1, 2, 3, 4, 5, 6]\n",
      "[0, 1, 2, 3, 4, 5, 6, 7]\n",
      "[0, 1, 2, 3, 4, 5, 6, 7, 8]\n",
      "[0, 1, 2, 3, 4, 5, 6, 7, 8, 9]\n",
      "[0, 1, 2, 3, 4, 5, 6, 7, 8, 9, 10]\n",
      "[0, 1, 2, 3, 4, 5, 6, 7, 8, 9, 10, 11]\n",
      "[0, 1, 2, 3, 4, 5, 6, 7, 8, 9, 10, 11, 12]\n",
      "[0, 1, 2, 3, 4, 5, 6, 7, 8, 9, 10, 11, 12, 13]\n",
      "[0, 1, 2, 3, 4, 5, 6, 7, 8, 9, 10, 11, 12, 13, 14]\n",
      "[0, 1, 2, 3, 4, 5, 6, 7, 8, 9, 10, 11, 12, 13, 14, 15]\n",
      "[0, 1, 2, 3, 4, 5, 6, 7, 8, 9, 10, 11, 12, 13, 14, 15, 16]\n",
      "[0, 1, 2, 3, 4, 5, 6, 7, 8, 9, 10, 11, 12, 13, 14, 15, 16, 17]\n",
      "[0, 1, 2, 3, 4, 5, 6, 7, 8, 9, 10, 11, 12, 13, 14, 15, 16, 17, 18]\n",
      "[0, 1, 2, 3, 4, 5, 6, 7, 8, 9, 10, 11, 12, 13, 14, 15, 16, 17, 18, 19]\n",
      "[0, 1, 2, 3, 4, 5, 6, 7, 8, 9, 10, 11, 12, 13, 14, 15, 16, 17, 18, 19, 20]\n"
     ]
    }
   ],
   "source": [
    "# Stampare a video tutti i numeri da 0 a 20 utilizzando il costrutto while.\n",
    "numero = 0\n",
    "lista_numeri = []\n",
    "while numero <= 20:\n",
    "    lista_numeri.append(numero)\n",
    "    numero += 1\n",
    "    print(lista_numeri)"
   ]
  },
  {
   "cell_type": "code",
   "execution_count": 1,
   "id": "78b45a00-af58-46ec-99e0-d2bd87418f3c",
   "metadata": {},
   "outputs": [
    {
     "name": "stdout",
     "output_type": "stream",
     "text": [
      "1\n",
      "2\n",
      "4\n",
      "8\n",
      "16\n",
      "32\n",
      "64\n",
      "128\n",
      "256\n",
      "512\n",
      "1024\n"
     ]
    }
   ],
   "source": [
    "# Calcolare e stampare tutte le prime 10 potenze di 2 (e.g., 2⁰, 2¹, 2², …) utilizzando un ciclo while.\n",
    "numero = 2 \n",
    "potenza = 0\n",
    "while potenza <= 10:\n",
    "    print(numero**potenza)\n",
    "    potenza += 1"
   ]
  },
  {
   "cell_type": "code",
   "execution_count": 4,
   "id": "14001af2-b54f-48d1-8ffc-c46ee8f1bff4",
   "metadata": {},
   "outputs": [
    {
     "name": "stdin",
     "output_type": "stream",
     "text": [
      "Inserisci 3 esponenti separati dalla ,  2,5,9\n"
     ]
    },
    {
     "name": "stdout",
     "output_type": "stream",
     "text": [
      "4\n",
      "32\n",
      "512\n"
     ]
    }
   ],
   "source": [
    "numero = 2\n",
    "stringa = input(\"Inserisci 3 esponenti separati dalla , \")\n",
    "lista = stringa.split(\",\")\n",
    "for i in lista:\n",
    "    print(numero**int(i))"
   ]
  },
  {
   "cell_type": "code",
   "execution_count": 10,
   "id": "65a64de1-c8a6-476e-b495-18c1e6e34bb8",
   "metadata": {},
   "outputs": [
    {
     "name": "stdout",
     "output_type": "stream",
     "text": [
      "1\n",
      "2\n",
      "4\n",
      "8\n",
      "16\n",
      "32\n",
      "64\n",
      "128\n",
      "256\n",
      "512\n",
      "1024\n",
      "2048\n",
      "4096\n",
      "8192\n",
      "16384\n"
     ]
    }
   ],
   "source": [
    "# Calcolare e stampare tutte le potenze di 2 minori di 25000.\n",
    "limite = 25000\n",
    "i = 0\n",
    "risultato_potenza = 0\n",
    "while risultato_potenza < limite:\n",
    "    risultato_potenza = 2**i\n",
    "    i += 1\n",
    "    if risultato_potenza <= limite:\n",
    "        print(risultato_potenza)\n",
    "    "
   ]
  },
  {
   "cell_type": "code",
   "execution_count": 11,
   "id": "1e7124b4-e896-4a74-9a9b-7bbb8ab76650",
   "metadata": {},
   "outputs": [],
   "source": [
    "# Abbiamo due liste, una di studenti e una di corsi\n",
    "studenti = [\"Alex\", \"Bob\", \"Cindy\", \"Dan\", \"Emma\", \"Faith\", \"Grace\", \"Henry\"]\n",
    "corsi = [\"Data Analyst\", \"Backend\", \"Frontend\", \"Data Analyst\", \"Backend\"]"
   ]
  },
  {
   "cell_type": "code",
   "execution_count": 12,
   "id": "ea9614ea-3a7f-4828-ac2f-0c8ae5b03df5",
   "metadata": {},
   "outputs": [
    {
     "data": {
      "text/plain": [
       "['Alex', 'Bob', 'Cindy', 'Dan', 'Emma', 'Faith', 'Grace', 'Henry']"
      ]
     },
     "execution_count": 12,
     "metadata": {},
     "output_type": "execute_result"
    }
   ],
   "source": [
    "studenti"
   ]
  },
  {
   "cell_type": "code",
   "execution_count": 13,
   "id": "904f5ee1-036e-43a9-8f1b-865ac303b35d",
   "metadata": {},
   "outputs": [
    {
     "data": {
      "text/plain": [
       "['Cybersecurity',\n",
       " 'Data Analyst',\n",
       " 'Backend',\n",
       " 'Frontend',\n",
       " 'Data Analyst',\n",
       " 'Backend']"
      ]
     },
     "execution_count": 13,
     "metadata": {},
     "output_type": "execute_result"
    }
   ],
   "source": [
    "corsi"
   ]
  },
  {
   "cell_type": "code",
   "execution_count": 20,
   "id": "65b60e7e-f44f-44ba-9421-62fef1e118f3",
   "metadata": {},
   "outputs": [],
   "source": [
    "corsi.append(\"Frontend\")\n",
    "corsi.append(\"Cybersecurity\")"
   ]
  },
  {
   "cell_type": "code",
   "execution_count": 23,
   "id": "19921b2f-75a8-4e94-8096-d775f158c71a",
   "metadata": {},
   "outputs": [
    {
     "name": "stdin",
     "output_type": "stream",
     "text": [
      "Inserisci una stringa:  ciao\n"
     ]
    },
    {
     "name": "stdout",
     "output_type": "stream",
     "text": [
      "cia...iao\n"
     ]
    }
   ],
   "source": [
    "stringa = input(\"Inserisci una stringa: \")\n",
    "output = stringa [:3] + \"...\" + stringa [-3:]\n",
    "print(output)"
   ]
  },
  {
   "cell_type": "code",
   "execution_count": 28,
   "id": "6f2bd171-f7b1-42a8-848f-c3e21015c45f",
   "metadata": {},
   "outputs": [
    {
     "name": "stdin",
     "output_type": "stream",
     "text": [
      "Inserisci una stringa:  casa\n"
     ]
    },
    {
     "name": "stdout",
     "output_type": "stream",
     "text": [
      "ca...sa\n"
     ]
    }
   ],
   "source": [
    "# Esercizio Scriviamo un programma che chiede in input all'utente una stringa e visualizza i primi 3 caratteri, \n",
    "# Seguiti da 3 punti di sospensione e quindi gli ultimi 3 caratteri, similmente all'esercizio della lezione scorsa. \n",
    "#Stavolta facciamo attenzione a tutti i casi particolari, ovvero implementare soluzioni ad hoc per stringhe di lunghezza inferiore a 6 caratteri.\n",
    "\n",
    "stringa = input(\"Inserisci una stringa: \")\n",
    "if len(stringa) >= 6:\n",
    "    output = stringa [:3] + \"...\" + stringa [-3:]\n",
    "    print(output)\n",
    "else: \n",
    "    output = stringa [:int(len(stringa)/2)] + \"...\" + stringa [int(-(len(stringa)/2)):]\n",
    "    print(output)"
   ]
  },
  {
   "cell_type": "code",
   "execution_count": 2,
   "id": "944f034d-b0c2-4cee-9ab6-be2f1514a115",
   "metadata": {},
   "outputs": [
    {
     "name": "stdin",
     "output_type": "stream",
     "text": [
      "inserire numero:  150\n"
     ]
    },
    {
     "name": "stdout",
     "output_type": "stream",
     "text": [
      "75 2\n",
      "25 3\n",
      "5 5\n",
      "1 5\n",
      "[2, 3, 5, 5]\n"
     ]
    }
   ],
   "source": [
    "# Memorizza e stampa tutti i fattori di un numero dato in input. Esempio: • input: 150 • output: [2, 3, 5, 5]\n",
    "numero = int(input(\"inserire numero: \"))\n",
    "divisore = 2\n",
    "fattori = []\n",
    "while numero > 1:\n",
    "    if numero %  divisore == 0:\n",
    "        fattori.append(divisore)\n",
    "        numero //= divisore\n",
    "        print(numero,divisore)\n",
    "        \n",
    "    else:\n",
    "        divisore += 1\n",
    "print(fattori)"
   ]
  },
  {
   "cell_type": "code",
   "execution_count": 5,
   "id": "1aa1a874-344a-46a9-8550-27f1cf77f966",
   "metadata": {},
   "outputs": [
    {
     "name": "stdout",
     "output_type": "stream",
     "text": [
      "Albergo 1\n",
      "Sedia 1\n",
      "Petalo 1\n",
      "Eremo 2\n",
      "Belvedere 4\n",
      "Semestre 3\n",
      "Esteta 2\n",
      "Orpello 1\n",
      "Abete 2\n",
      "Cesta 1\n",
      "Ermellino 2\n"
     ]
    }
   ],
   "source": [
    "parole = [\"Albergo\", \"Sedia\", \"Borgo\", \"Petalo\", \"Eremo\", \"Belvedere\", \"Semestre\", \"Esteta\", \"Sosta\", \"Orpello\", \"Abete\", \"Orologio\", \"Cesta\", \"Ermellino\"]\n",
    "for parola in parole:\n",
    "    if \"e\" in parola.lower():\n",
    "        print(parola, parola.lower().count(\"e\"))"
   ]
  },
  {
   "cell_type": "code",
   "execution_count": null,
   "id": "0ddf5910-e2be-445d-b911-715fc747a61c",
   "metadata": {},
   "outputs": [],
   "source": []
  }
 ],
 "metadata": {
  "kernelspec": {
   "display_name": "Python 3 (ipykernel)",
   "language": "python",
   "name": "python3"
  },
  "language_info": {
   "codemirror_mode": {
    "name": "ipython",
    "version": 3
   },
   "file_extension": ".py",
   "mimetype": "text/x-python",
   "name": "python",
   "nbconvert_exporter": "python",
   "pygments_lexer": "ipython3",
   "version": "3.11.7"
  }
 },
 "nbformat": 4,
 "nbformat_minor": 5
}
