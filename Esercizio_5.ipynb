{
 "cells": [
  {
   "cell_type": "code",
   "execution_count": 3,
   "id": "b01b321c-6f79-475c-a61a-1f536ea27f62",
   "metadata": {},
   "outputs": [],
   "source": [
    "mat = [[0, 1, 2, 3, 4], \n",
    "       [5, 6, 7, 8, 9], \n",
    "       [10, 11, 12, 13, 14]]\n",
    "# come struttura dati è un array"
   ]
  },
  {
   "cell_type": "code",
   "execution_count": 4,
   "id": "d821f8e5-5c1a-4a3e-a643-cf12c8efbc3a",
   "metadata": {},
   "outputs": [
    {
     "data": {
      "text/plain": [
       "[[0, 1, 2, 3, 4], [5, 6, 7, 8, 9], [10, 11, 12, 13, 14]]"
      ]
     },
     "execution_count": 4,
     "metadata": {},
     "output_type": "execute_result"
    }
   ],
   "source": [
    "mat"
   ]
  },
  {
   "cell_type": "code",
   "execution_count": 10,
   "id": "81523b73-1506-4fd0-820d-068bc73b180a",
   "metadata": {},
   "outputs": [],
   "source": [
    "import numpy as np\n",
    "import math\n",
    "import pandas as pd"
   ]
  },
  {
   "cell_type": "code",
   "execution_count": 7,
   "id": "2473aac1-35ed-4e2d-a86f-ab9eec18b6ab",
   "metadata": {},
   "outputs": [],
   "source": [
    "mat_array = np.array(mat)"
   ]
  },
  {
   "cell_type": "code",
   "execution_count": 8,
   "id": "bb2605fe-2dc8-43ee-83bb-4241cde624a5",
   "metadata": {},
   "outputs": [
    {
     "data": {
      "text/plain": [
       "array([[ 0,  1,  2,  3,  4],\n",
       "       [ 5,  6,  7,  8,  9],\n",
       "       [10, 11, 12, 13, 14]])"
      ]
     },
     "execution_count": 8,
     "metadata": {},
     "output_type": "execute_result"
    }
   ],
   "source": [
    "mat_array"
   ]
  },
  {
   "cell_type": "code",
   "execution_count": 12,
   "id": "04d9a846-91d5-4b70-a971-356c4813299f",
   "metadata": {},
   "outputs": [
    {
     "data": {
      "text/plain": [
       "(3, 5)"
      ]
     },
     "execution_count": 12,
     "metadata": {},
     "output_type": "execute_result"
    }
   ],
   "source": [
    "# ispezioniamo la dimensione, primo valore sempre le righe, secondo sempre colonne\n",
    "mat_array.shape"
   ]
  },
  {
   "cell_type": "code",
   "execution_count": 13,
   "id": "887c8bd6-4e48-4ef6-8433-213252428144",
   "metadata": {},
   "outputs": [
    {
     "data": {
      "text/plain": [
       "array([0, 1, 2, 3, 4])"
      ]
     },
     "execution_count": 13,
     "metadata": {},
     "output_type": "execute_result"
    }
   ],
   "source": [
    "mat_array[0,:]"
   ]
  },
  {
   "cell_type": "code",
   "execution_count": 14,
   "id": "0c81cceb-0640-4fa0-a96d-76841a3a23ea",
   "metadata": {},
   "outputs": [
    {
     "data": {
      "text/plain": [
       "array([5, 6, 7, 8, 9])"
      ]
     },
     "execution_count": 14,
     "metadata": {},
     "output_type": "execute_result"
    }
   ],
   "source": [
    "# accedere alle ultime 2 righe\n",
    "mat_array[-2,:]"
   ]
  },
  {
   "cell_type": "code",
   "execution_count": 15,
   "id": "13a6c7c0-1cff-4e03-bdda-7f049f465f37",
   "metadata": {},
   "outputs": [
    {
     "data": {
      "text/plain": [
       "7"
      ]
     },
     "execution_count": 15,
     "metadata": {},
     "output_type": "execute_result"
    }
   ],
   "source": [
    "# questo per accedere ai singoli elementi\n",
    "mat_array[1,2]"
   ]
  },
  {
   "cell_type": "code",
   "execution_count": 16,
   "id": "b9050552-d8c6-4984-b09e-2f0d340cfa09",
   "metadata": {},
   "outputs": [],
   "source": [
    "df = pd.DataFrame(mat)"
   ]
  },
  {
   "cell_type": "code",
   "execution_count": 18,
   "id": "f51da398-bc68-46a2-9641-1143d181db96",
   "metadata": {},
   "outputs": [
    {
     "data": {
      "text/html": [
       "<div>\n",
       "<style scoped>\n",
       "    .dataframe tbody tr th:only-of-type {\n",
       "        vertical-align: middle;\n",
       "    }\n",
       "\n",
       "    .dataframe tbody tr th {\n",
       "        vertical-align: top;\n",
       "    }\n",
       "\n",
       "    .dataframe thead th {\n",
       "        text-align: right;\n",
       "    }\n",
       "</style>\n",
       "<table border=\"1\" class=\"dataframe\">\n",
       "  <thead>\n",
       "    <tr style=\"text-align: right;\">\n",
       "      <th></th>\n",
       "      <th>0</th>\n",
       "      <th>1</th>\n",
       "      <th>2</th>\n",
       "      <th>3</th>\n",
       "      <th>4</th>\n",
       "    </tr>\n",
       "  </thead>\n",
       "  <tbody>\n",
       "    <tr>\n",
       "      <th>0</th>\n",
       "      <td>0</td>\n",
       "      <td>1</td>\n",
       "      <td>2</td>\n",
       "      <td>3</td>\n",
       "      <td>4</td>\n",
       "    </tr>\n",
       "    <tr>\n",
       "      <th>1</th>\n",
       "      <td>5</td>\n",
       "      <td>6</td>\n",
       "      <td>7</td>\n",
       "      <td>8</td>\n",
       "      <td>9</td>\n",
       "    </tr>\n",
       "    <tr>\n",
       "      <th>2</th>\n",
       "      <td>10</td>\n",
       "      <td>11</td>\n",
       "      <td>12</td>\n",
       "      <td>13</td>\n",
       "      <td>14</td>\n",
       "    </tr>\n",
       "  </tbody>\n",
       "</table>\n",
       "</div>"
      ],
      "text/plain": [
       "    0   1   2   3   4\n",
       "0   0   1   2   3   4\n",
       "1   5   6   7   8   9\n",
       "2  10  11  12  13  14"
      ]
     },
     "execution_count": 18,
     "metadata": {},
     "output_type": "execute_result"
    }
   ],
   "source": [
    "df"
   ]
  },
  {
   "cell_type": "code",
   "execution_count": 19,
   "id": "f0d38ba7-775e-4289-9bac-d5c23ab59e90",
   "metadata": {},
   "outputs": [],
   "source": [
    "x = math.sin(15)"
   ]
  },
  {
   "cell_type": "code",
   "execution_count": 20,
   "id": "61eb06cc-090c-4fd9-ba5c-3257dd2daaa8",
   "metadata": {},
   "outputs": [
    {
     "data": {
      "text/plain": [
       "0.6502878401571168"
      ]
     },
     "execution_count": 20,
     "metadata": {},
     "output_type": "execute_result"
    }
   ],
   "source": [
    "x"
   ]
  },
  {
   "cell_type": "code",
   "execution_count": 21,
   "id": "d7f88431-8a57-47d5-a3b6-e9ec027b9e8a",
   "metadata": {},
   "outputs": [],
   "source": [
    "y = math.cos(17)"
   ]
  },
  {
   "cell_type": "code",
   "execution_count": 22,
   "id": "24295b0f-0e6e-479b-bc66-44bf3a725835",
   "metadata": {},
   "outputs": [
    {
     "data": {
      "text/plain": [
       "-0.27516333805159693"
      ]
     },
     "execution_count": 22,
     "metadata": {},
     "output_type": "execute_result"
    }
   ],
   "source": [
    "y"
   ]
  },
  {
   "cell_type": "code",
   "execution_count": 23,
   "id": "e76014f5-e537-44e8-98a0-12ac6b0deb28",
   "metadata": {},
   "outputs": [],
   "source": [
    "z = math.factorial(18)"
   ]
  },
  {
   "cell_type": "code",
   "execution_count": 24,
   "id": "75538059-15d7-4dd6-9e85-a66f07a1d1dd",
   "metadata": {},
   "outputs": [
    {
     "data": {
      "text/plain": [
       "6402373705728000"
      ]
     },
     "execution_count": 24,
     "metadata": {},
     "output_type": "execute_result"
    }
   ],
   "source": [
    "z"
   ]
  },
  {
   "cell_type": "code",
   "execution_count": 26,
   "id": "edd40660-7ecc-4297-b7ea-d5dc9372cd39",
   "metadata": {},
   "outputs": [],
   "source": [
    "s = math.pi"
   ]
  },
  {
   "cell_type": "code",
   "execution_count": 27,
   "id": "15c2a5b0-92b3-4a04-90cd-ed8f6c73e06f",
   "metadata": {},
   "outputs": [
    {
     "data": {
      "text/plain": [
       "3.141592653589793"
      ]
     },
     "execution_count": 27,
     "metadata": {},
     "output_type": "execute_result"
    }
   ],
   "source": [
    "s"
   ]
  },
  {
   "cell_type": "code",
   "execution_count": 28,
   "id": "e57470d6-ec50-4a49-b588-4dbf529579d4",
   "metadata": {},
   "outputs": [
    {
     "data": {
      "text/plain": [
       "180.0"
      ]
     },
     "execution_count": 28,
     "metadata": {},
     "output_type": "execute_result"
    }
   ],
   "source": [
    "math.degrees(math.pi)"
   ]
  },
  {
   "cell_type": "code",
   "execution_count": 29,
   "id": "f8a99fed-a46d-4151-a195-b7e14e2c8be8",
   "metadata": {},
   "outputs": [],
   "source": [
    "lst = [2000, 5500, 7200, 4320, 1280, 1900, 2500, 3900, 6410, 8150, 7100, 5350]"
   ]
  },
  {
   "cell_type": "code",
   "execution_count": 30,
   "id": "806f4233-c07f-40da-bf0a-052c10332e30",
   "metadata": {},
   "outputs": [],
   "source": [
    "lst = np.array(lst)"
   ]
  },
  {
   "cell_type": "code",
   "execution_count": 31,
   "id": "50317b6a-548f-4122-b7e2-cd0d3771a4ff",
   "metadata": {},
   "outputs": [
    {
     "data": {
      "text/plain": [
       "array([2000, 5500, 7200, 4320, 1280, 1900, 2500, 3900, 6410, 8150, 7100,\n",
       "       5350])"
      ]
     },
     "execution_count": 31,
     "metadata": {},
     "output_type": "execute_result"
    }
   ],
   "source": [
    "lst"
   ]
  },
  {
   "cell_type": "code",
   "execution_count": 34,
   "id": "fbe672ac-6b3a-45fb-8b4c-899aea93df13",
   "metadata": {},
   "outputs": [
    {
     "data": {
      "text/plain": [
       "8150"
      ]
     },
     "execution_count": 34,
     "metadata": {},
     "output_type": "execute_result"
    }
   ],
   "source": [
    "# qual è stata la vendita massima mensile? E quella minima?\n",
    "lst.max()"
   ]
  },
  {
   "cell_type": "code",
   "execution_count": 35,
   "id": "25c64407-4517-4592-891c-9fe56d34dc1e",
   "metadata": {},
   "outputs": [
    {
     "data": {
      "text/plain": [
       "1280"
      ]
     },
     "execution_count": 35,
     "metadata": {},
     "output_type": "execute_result"
    }
   ],
   "source": [
    "lst.min()"
   ]
  },
  {
   "cell_type": "code",
   "execution_count": 48,
   "id": "c384bf0b-1c92-46b6-ad82-e6a030634b58",
   "metadata": {},
   "outputs": [],
   "source": [
    "filter = lst[lst > 4999] # estrae i valori che soddisfano la parentesi quadra"
   ]
  },
  {
   "cell_type": "code",
   "execution_count": 49,
   "id": "a5bf4a08-0e4b-4b57-a580-c023b640a4cc",
   "metadata": {},
   "outputs": [
    {
     "data": {
      "text/plain": [
       "array([5500, 7200, 6410, 8150, 7100, 5350])"
      ]
     },
     "execution_count": 49,
     "metadata": {},
     "output_type": "execute_result"
    }
   ],
   "source": [
    "filter"
   ]
  },
  {
   "cell_type": "code",
   "execution_count": 42,
   "id": "6f3ca7e2-581c-4d2d-8b1a-2d0b1b9fdbea",
   "metadata": {},
   "outputs": [
    {
     "data": {
      "text/plain": [
       "6"
      ]
     },
     "execution_count": 42,
     "metadata": {},
     "output_type": "execute_result"
    }
   ],
   "source": [
    "len(filter)"
   ]
  },
  {
   "cell_type": "code",
   "execution_count": 47,
   "id": "79af8af1-afcc-4aae-a18f-ab6e555db363",
   "metadata": {},
   "outputs": [],
   "source": [
    "# quali sono le vendite minori di 3000 oggetti?\n",
    "filter_min = lst [lst < 3000]"
   ]
  },
  {
   "cell_type": "code",
   "execution_count": 44,
   "id": "af014020-c38e-48c3-be35-68b1b7cd671b",
   "metadata": {},
   "outputs": [
    {
     "data": {
      "text/plain": [
       "array([2000, 1280, 1900, 2500])"
      ]
     },
     "execution_count": 44,
     "metadata": {},
     "output_type": "execute_result"
    }
   ],
   "source": [
    "filter"
   ]
  },
  {
   "cell_type": "code",
   "execution_count": 50,
   "id": "482be797-3872-4301-b0c3-36f110b4698c",
   "metadata": {},
   "outputs": [
    {
     "data": {
      "text/plain": [
       "4"
      ]
     },
     "execution_count": 50,
     "metadata": {},
     "output_type": "execute_result"
    }
   ],
   "source": [
    "len(filter_min)"
   ]
  },
  {
   "cell_type": "code",
   "execution_count": 55,
   "id": "0d060eff-523d-4b44-a94a-77f0ab33eaaf",
   "metadata": {},
   "outputs": [
    {
     "data": {
      "text/plain": [
       "4634.17"
      ]
     },
     "execution_count": 55,
     "metadata": {},
     "output_type": "execute_result"
    }
   ],
   "source": [
    "# in media quanti oggetti sono stati venduti al mese?\n",
    "round(lst.mean(),2)"
   ]
  },
  {
   "cell_type": "code",
   "execution_count": 62,
   "id": "d843163c-b230-4971-8407-4085cf87c686",
   "metadata": {},
   "outputs": [],
   "source": [
    "# Dunque qual è la differenza tra i due tipi di dato? Cosa potremmo fare con la Series che non possiamo fare con il dizionario?\n",
    "fatturati_dict = {1997: 12_000, 1998: 15_000, 1999: 20_000, 2000: 23_000, 2001: 25_000, 2002: 17_000, 2003: 14_000, 2004: 21_000}"
   ]
  },
  {
   "cell_type": "code",
   "execution_count": 57,
   "id": "0e534687-5556-4b49-b434-58cdefe2bacc",
   "metadata": {},
   "outputs": [],
   "source": [
    "fatturati_series = pd.Series([12_000, 15_000, 20_000, 23_000, 25_000, 17_000, 14_000, 21_000], index=range(1997, 2005))"
   ]
  },
  {
   "cell_type": "code",
   "execution_count": 63,
   "id": "e6691e02-fe52-4f30-99a8-0e32a1afea3f",
   "metadata": {},
   "outputs": [
    {
     "data": {
      "text/plain": [
       "int"
      ]
     },
     "execution_count": 63,
     "metadata": {},
     "output_type": "execute_result"
    }
   ],
   "source": [
    "#struttura dati base di Python\n",
    "type(fatturati_dict[1997]) "
   ]
  },
  {
   "cell_type": "code",
   "execution_count": 64,
   "id": "b0e0dea3-521b-4500-8f3f-0de59a320c66",
   "metadata": {},
   "outputs": [
    {
     "data": {
      "text/plain": [
       "numpy.int64"
      ]
     },
     "execution_count": 64,
     "metadata": {},
     "output_type": "execute_result"
    }
   ],
   "source": [
    "# con le Series si posso fare delle operazioni. E' un organizazzione dei dati per poter ispezionati interrogati e gestiti\n",
    "type(fatturati_series[1997])"
   ]
  },
  {
   "cell_type": "code",
   "execution_count": 66,
   "id": "abc21fb2-dd43-4721-a348-d39a1b3191cc",
   "metadata": {},
   "outputs": [
    {
     "data": {
      "text/plain": [
       "25000"
      ]
     },
     "execution_count": 66,
     "metadata": {},
     "output_type": "execute_result"
    }
   ],
   "source": [
    "# ad esempio in questo caso restrituisce il massimo tra i volari\n",
    "fatturati_series.max()"
   ]
  },
  {
   "cell_type": "code",
   "execution_count": 71,
   "id": "0202bee3-c151-437f-ac22-3a5389d2c6d5",
   "metadata": {},
   "outputs": [
    {
     "data": {
      "text/plain": [
       "1997    12000\n",
       "1998    15000\n",
       "1999    20000\n",
       "2002    17000\n",
       "2003    14000\n",
       "2004    21000\n",
       "dtype: int64"
      ]
     },
     "execution_count": 71,
     "metadata": {},
     "output_type": "execute_result"
    }
   ],
   "source": [
    "# restituisce come valore booleano i vaolri compresi nel range che stiamo ispezionando\n",
    "fatturati_series[fatturati_series.between(12_000,21_000)]"
   ]
  },
  {
   "cell_type": "code",
   "execution_count": 72,
   "id": "aea96a02-9350-4a58-b626-e10692c320f8",
   "metadata": {},
   "outputs": [],
   "source": [
    "import numpy as np \n",
    "stipendi = np.array( [100, 200, 300, 400, 500,  600, 700, 800, 900, 1000] )"
   ]
  },
  {
   "cell_type": "code",
   "execution_count": 75,
   "id": "41cbbfea-41b9-44a6-b684-10b8ce112910",
   "metadata": {},
   "outputs": [
    {
     "name": "stdout",
     "output_type": "stream",
     "text": [
      "[200]\n",
      "[200, 400]\n",
      "[200, 400, 600]\n",
      "[200, 400, 600, 800]\n",
      "[200, 400, 600, 800, 1000]\n",
      "[200, 400, 600, 800, 1000, 1200]\n",
      "[200, 400, 600, 800, 1000, 1200, 1400]\n",
      "[200, 400, 600, 800, 1000, 1200, 1400, 1600]\n",
      "[200, 400, 600, 800, 1000, 1200, 1400, 1600, 1800]\n",
      "[200, 400, 600, 800, 1000, 1200, 1400, 1600, 1800, 2000]\n"
     ]
    }
   ],
   "source": [
    "# Raddoppoare stipendi con un ciclo for\n",
    "lista_stipendi = []\n",
    "for stipendio in stipendi:\n",
    "    lista_stipendi.append(stipendio*2)\n",
    "    print(lista_stipendi)"
   ]
  },
  {
   "cell_type": "code",
   "execution_count": 76,
   "id": "4013c2a7-c81f-4bdb-b15a-ff2c5999f620",
   "metadata": {},
   "outputs": [],
   "source": [
    "lista_stipendi_raddoppiati_numpy = stipendi*2"
   ]
  },
  {
   "cell_type": "code",
   "execution_count": 77,
   "id": "92cc7c7e-c162-4874-8302-b63e55bb34da",
   "metadata": {},
   "outputs": [
    {
     "data": {
      "text/plain": [
       "array([ 200,  400,  600,  800, 1000, 1200, 1400, 1600, 1800, 2000])"
      ]
     },
     "execution_count": 77,
     "metadata": {},
     "output_type": "execute_result"
    }
   ],
   "source": [
    "lista_stipendi_raddoppiati_numpy"
   ]
  },
  {
   "cell_type": "code",
   "execution_count": 80,
   "id": "ec9d6762-56f3-4370-b43a-55f0141a7c4a",
   "metadata": {},
   "outputs": [
    {
     "name": "stdout",
     "output_type": "stream",
     "text": [
      "0\n",
      "10\n",
      "20\n",
      "30\n",
      "40\n",
      "50\n",
      "60\n",
      "70\n",
      "80\n",
      "90\n"
     ]
    }
   ],
   "source": [
    "for x in range (0, 100, 10):\n",
    "    print(x)"
   ]
  },
  {
   "cell_type": "code",
   "execution_count": null,
   "id": "996b5a24-d651-4c3f-901a-317a42facc29",
   "metadata": {},
   "outputs": [],
   "source": []
  }
 ],
 "metadata": {
  "kernelspec": {
   "display_name": "Python 3 (ipykernel)",
   "language": "python",
   "name": "python3"
  },
  "language_info": {
   "codemirror_mode": {
    "name": "ipython",
    "version": 3
   },
   "file_extension": ".py",
   "mimetype": "text/x-python",
   "name": "python",
   "nbconvert_exporter": "python",
   "pygments_lexer": "ipython3",
   "version": "3.11.7"
  }
 },
 "nbformat": 4,
 "nbformat_minor": 5
}
