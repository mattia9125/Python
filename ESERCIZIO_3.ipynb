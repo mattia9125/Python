{
 "cells": [
  {
   "cell_type": "code",
   "execution_count": 1,
   "id": "6598e44f-be56-4442-bf00-ccdba215b2a5",
   "metadata": {},
   "outputs": [],
   "source": [
    "lista = [0,1,2,3,4,5,6,7,8,9,10]"
   ]
  },
  {
   "cell_type": "code",
   "execution_count": 3,
   "id": "ac0c175e-3363-4a00-ad74-59e8b18aac6e",
   "metadata": {},
   "outputs": [
    {
     "data": {
      "text/plain": [
       "[8, 9, 10]"
      ]
     },
     "execution_count": 3,
     "metadata": {},
     "output_type": "execute_result"
    }
   ],
   "source": [
    "lista[-3:]"
   ]
  },
  {
   "cell_type": "code",
   "execution_count": 4,
   "id": "2a3705e0-da55-4191-afa4-8d0def99e639",
   "metadata": {},
   "outputs": [
    {
     "data": {
      "text/plain": [
       "[8]"
      ]
     },
     "execution_count": 4,
     "metadata": {},
     "output_type": "execute_result"
    }
   ],
   "source": [
    "lista[-3:-2] # l'ultimo parametro è esclusivo, ovvero non lo conta"
   ]
  },
  {
   "cell_type": "code",
   "execution_count": 7,
   "id": "e223d54f-3eb8-4b70-9bac-abd02dc37163",
   "metadata": {},
   "outputs": [
    {
     "data": {
      "text/plain": [
       "[4, 6]"
      ]
     },
     "execution_count": 7,
     "metadata": {},
     "output_type": "execute_result"
    }
   ],
   "source": [
    "lista[4:8:2] # da posizione numero 4 fino alla 8 esclusa, spostandosi ogni 2"
   ]
  },
  {
   "cell_type": "code",
   "execution_count": 9,
   "id": "8aeeeab2-4e82-4a6c-acf3-959e968a1aa1",
   "metadata": {},
   "outputs": [],
   "source": [
    "lista.append(11) # appen aggiunge un fattore alla mia lista"
   ]
  },
  {
   "cell_type": "code",
   "execution_count": 10,
   "id": "a090b721-558f-427e-948d-b7a53926448a",
   "metadata": {},
   "outputs": [
    {
     "data": {
      "text/plain": [
       "[0, 1, 2, 3, 4, 5, 6, 7, 8, 9, 10, 10, 11]"
      ]
     },
     "execution_count": 10,
     "metadata": {},
     "output_type": "execute_result"
    }
   ],
   "source": [
    "lista"
   ]
  },
  {
   "cell_type": "code",
   "execution_count": 11,
   "id": "68efe780-f7d9-4518-ab58-3240322fa02c",
   "metadata": {},
   "outputs": [],
   "source": [
    "dato = 12"
   ]
  },
  {
   "cell_type": "code",
   "execution_count": 12,
   "id": "e6604580-e733-4f85-ac2e-80a23513af37",
   "metadata": {},
   "outputs": [],
   "source": [
    "lista.append(dato) # si può anche inserire una variabile all'interno"
   ]
  },
  {
   "cell_type": "code",
   "execution_count": 13,
   "id": "10c2ad58-28bf-4f1f-b885-8b8d728f5771",
   "metadata": {},
   "outputs": [
    {
     "data": {
      "text/plain": [
       "[0, 1, 2, 3, 4, 5, 6, 7, 8, 9, 10, 10, 11, 12]"
      ]
     },
     "execution_count": 13,
     "metadata": {},
     "output_type": "execute_result"
    }
   ],
   "source": [
    "lista"
   ]
  },
  {
   "cell_type": "code",
   "execution_count": null,
   "id": "de53aa7c-1dbf-4a70-96d1-23a0f1aca2d0",
   "metadata": {},
   "outputs": [],
   "source": [
    "lista.sort() # ordina tutti i dati della lista"
   ]
  },
  {
   "cell_type": "code",
   "execution_count": 14,
   "id": "5a1abb54-6e29-4976-a984-c8ca829e6836",
   "metadata": {},
   "outputs": [],
   "source": [
    "lista.reverse() # ordina i dati contenuti nella lista al contrario"
   ]
  },
  {
   "cell_type": "code",
   "execution_count": 15,
   "id": "ed14f056-0a32-4e84-8418-a987d9c7f7a3",
   "metadata": {},
   "outputs": [
    {
     "data": {
      "text/plain": [
       "[12, 11, 10, 10, 9, 8, 7, 6, 5, 4, 3, 2, 1, 0]"
      ]
     },
     "execution_count": 15,
     "metadata": {},
     "output_type": "execute_result"
    }
   ],
   "source": [
    "lista"
   ]
  },
  {
   "cell_type": "code",
   "execution_count": 18,
   "id": "e83ba310-524d-4bfe-a53d-b68f1d5b728c",
   "metadata": {},
   "outputs": [],
   "source": [
    "esempio_set = {128,100,50,75,46,84,75}"
   ]
  },
  {
   "cell_type": "code",
   "execution_count": 19,
   "id": "bdd98b85-8812-4994-ae18-53e13c408fea",
   "metadata": {},
   "outputs": [
    {
     "data": {
      "text/plain": [
       "{46, 50, 75, 84, 100, 128}"
      ]
     },
     "execution_count": 19,
     "metadata": {},
     "output_type": "execute_result"
    }
   ],
   "source": [
    "esempio_set"
   ]
  },
  {
   "cell_type": "code",
   "execution_count": 20,
   "id": "b100cd78-ffbf-4b3e-9624-f356ecfba756",
   "metadata": {},
   "outputs": [],
   "source": [
    "lista = [128,100,50,75,46,84,75]"
   ]
  },
  {
   "cell_type": "code",
   "execution_count": 21,
   "id": "59a0be61-9555-42c0-9d4e-f74af2d69fbb",
   "metadata": {},
   "outputs": [
    {
     "data": {
      "text/plain": [
       "[128, 100, 50, 75, 46, 84, 75]"
      ]
     },
     "execution_count": 21,
     "metadata": {},
     "output_type": "execute_result"
    }
   ],
   "source": [
    "lista"
   ]
  },
  {
   "cell_type": "code",
   "execution_count": 22,
   "id": "3df8784a-0e99-4f6f-a4bd-53a96509651a",
   "metadata": {},
   "outputs": [],
   "source": [
    "nuova_lista = set(lista)"
   ]
  },
  {
   "cell_type": "code",
   "execution_count": 23,
   "id": "397e2a00-3d7a-4663-9057-49f1daf7536b",
   "metadata": {},
   "outputs": [
    {
     "data": {
      "text/plain": [
       "{46, 50, 75, 84, 100, 128}"
      ]
     },
     "execution_count": 23,
     "metadata": {},
     "output_type": "execute_result"
    }
   ],
   "source": [
    "nuova_lista"
   ]
  },
  {
   "cell_type": "code",
   "execution_count": 24,
   "id": "8e7b14aa-4399-4f63-8515-45474ddb5ae4",
   "metadata": {},
   "outputs": [
    {
     "data": {
      "text/plain": [
       "set"
      ]
     },
     "execution_count": 24,
     "metadata": {},
     "output_type": "execute_result"
    }
   ],
   "source": [
    "type(nuova_lista)\n"
   ]
  },
  {
   "cell_type": "code",
   "execution_count": 26,
   "id": "f8f640e8-b423-42ab-a8f4-ac5ffc6a6bea",
   "metadata": {},
   "outputs": [],
   "source": [
    "lista_senza_duplicati = list(nuova_lista)"
   ]
  },
  {
   "cell_type": "code",
   "execution_count": 27,
   "id": "8f867b01-99b9-47a0-933e-47dde70d5285",
   "metadata": {},
   "outputs": [
    {
     "data": {
      "text/plain": [
       "[128, 100, 75, 46, 50, 84]"
      ]
     },
     "execution_count": 27,
     "metadata": {},
     "output_type": "execute_result"
    }
   ],
   "source": [
    "lista_senza_duplicati"
   ]
  },
  {
   "cell_type": "code",
   "execution_count": 1,
   "id": "0dd6913d-711d-4774-90ee-1fa537b5e1a2",
   "metadata": {},
   "outputs": [],
   "source": [
    "dizionario = { \"professione\" : \"studente\",\n",
    "              \"età\" : 30,\n",
    "              \"libero\" : True}"
   ]
  },
  {
   "cell_type": "code",
   "execution_count": 2,
   "id": "c8b73450-e772-4452-8a34-b816761e2699",
   "metadata": {},
   "outputs": [
    {
     "data": {
      "text/plain": [
       "{'professione': 'studente', 'età': 30, 'libero': True}"
      ]
     },
     "execution_count": 2,
     "metadata": {},
     "output_type": "execute_result"
    }
   ],
   "source": [
    "dizionario\n"
   ]
  },
  {
   "cell_type": "code",
   "execution_count": null,
   "id": "988bd278-faaf-47d9-933b-b6d85e5f9e63",
   "metadata": {},
   "outputs": [],
   "source": []
  }
 ],
 "metadata": {
  "kernelspec": {
   "display_name": "Python 3 (ipykernel)",
   "language": "python",
   "name": "python3"
  },
  "language_info": {
   "codemirror_mode": {
    "name": "ipython",
    "version": 3
   },
   "file_extension": ".py",
   "mimetype": "text/x-python",
   "name": "python",
   "nbconvert_exporter": "python",
   "pygments_lexer": "ipython3",
   "version": "3.11.7"
  }
 },
 "nbformat": 4,
 "nbformat_minor": 5
}
